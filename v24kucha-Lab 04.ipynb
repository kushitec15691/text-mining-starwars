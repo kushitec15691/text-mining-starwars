{
 "cells": [
  {
   "cell_type": "markdown",
   "id": "7c31e0b6",
   "metadata": {},
   "source": [
    "# Star Wars Movies Scripts Analysis\n",
    "Student name - Kushmi Anuththara Chandrasena"
   ]
  },
  {
   "cell_type": "markdown",
   "id": "1a215051",
   "metadata": {},
   "source": [
    "## 1. Importing Libraries"
   ]
  },
  {
   "cell_type": "code",
   "execution_count": 8,
   "id": "b494cefe",
   "metadata": {},
   "outputs": [
    {
     "name": "stdout",
     "output_type": "stream",
     "text": [
      "Requirement already satisfied: wordcloud in c:\\users\\kushi\\anaconda3\\lib\\site-packages (1.9.3)\n",
      "Requirement already satisfied: nltk in c:\\users\\kushi\\anaconda3\\lib\\site-packages (3.8.1)\n",
      "Requirement already satisfied: numpy>=1.6.1 in c:\\users\\kushi\\anaconda3\\lib\\site-packages (from wordcloud) (1.24.3)\n",
      "Requirement already satisfied: pillow in c:\\users\\kushi\\anaconda3\\lib\\site-packages (from wordcloud) (10.2.0)\n",
      "Requirement already satisfied: matplotlib in c:\\users\\kushi\\anaconda3\\lib\\site-packages (from wordcloud) (3.7.2)\n",
      "Requirement already satisfied: click in c:\\users\\kushi\\anaconda3\\lib\\site-packages (from nltk) (8.0.4)\n",
      "Requirement already satisfied: joblib in c:\\users\\kushi\\anaconda3\\lib\\site-packages (from nltk) (1.2.0)\n",
      "Requirement already satisfied: regex>=2021.8.3 in c:\\users\\kushi\\anaconda3\\lib\\site-packages (from nltk) (2022.7.9)\n",
      "Requirement already satisfied: tqdm in c:\\users\\kushi\\anaconda3\\lib\\site-packages (from nltk) (4.65.0)\n",
      "Requirement already satisfied: colorama in c:\\users\\kushi\\anaconda3\\lib\\site-packages (from click->nltk) (0.4.6)\n",
      "Requirement already satisfied: contourpy>=1.0.1 in c:\\users\\kushi\\anaconda3\\lib\\site-packages (from matplotlib->wordcloud) (1.0.5)\n",
      "Requirement already satisfied: cycler>=0.10 in c:\\users\\kushi\\anaconda3\\lib\\site-packages (from matplotlib->wordcloud) (0.11.0)\n",
      "Requirement already satisfied: fonttools>=4.22.0 in c:\\users\\kushi\\anaconda3\\lib\\site-packages (from matplotlib->wordcloud) (4.25.0)\n",
      "Requirement already satisfied: kiwisolver>=1.0.1 in c:\\users\\kushi\\anaconda3\\lib\\site-packages (from matplotlib->wordcloud) (1.4.4)\n",
      "Requirement already satisfied: packaging>=20.0 in c:\\users\\kushi\\anaconda3\\lib\\site-packages (from matplotlib->wordcloud) (23.1)\n",
      "Requirement already satisfied: pyparsing<3.1,>=2.3.1 in c:\\users\\kushi\\anaconda3\\lib\\site-packages (from matplotlib->wordcloud) (3.0.9)\n",
      "Requirement already satisfied: python-dateutil>=2.7 in c:\\users\\kushi\\anaconda3\\lib\\site-packages (from matplotlib->wordcloud) (2.8.2)\n",
      "Requirement already satisfied: six>=1.5 in c:\\users\\kushi\\anaconda3\\lib\\site-packages (from python-dateutil>=2.7->matplotlib->wordcloud) (1.16.0)\n",
      "Libraries imported successfully!\n"
     ]
    },
    {
     "name": "stderr",
     "output_type": "stream",
     "text": [
      "[nltk_data] Downloading package punkt to\n",
      "[nltk_data]     C:\\Users\\kushi\\AppData\\Roaming\\nltk_data...\n",
      "[nltk_data]   Package punkt is already up-to-date!\n",
      "[nltk_data] Downloading package stopwords to\n",
      "[nltk_data]     C:\\Users\\kushi\\AppData\\Roaming\\nltk_data...\n",
      "[nltk_data]   Package stopwords is already up-to-date!\n",
      "[nltk_data] Downloading package wordnet to\n",
      "[nltk_data]     C:\\Users\\kushi\\AppData\\Roaming\\nltk_data...\n",
      "[nltk_data]   Package wordnet is already up-to-date!\n",
      "[nltk_data] Downloading package vader_lexicon to\n",
      "[nltk_data]     C:\\Users\\kushi\\AppData\\Roaming\\nltk_data...\n",
      "[nltk_data]   Package vader_lexicon is already up-to-date!\n"
     ]
    }
   ],
   "source": [
    "# Import necessary libraries\n",
    "!pip install wordcloud nltk\n",
    "\n",
    "import pandas as pd\n",
    "import numpy as np\n",
    "import matplotlib.pyplot as plt\n",
    "from wordcloud import WordCloud, STOPWORDS\n",
    "from sklearn.feature_extraction.text import TfidfVectorizer\n",
    "from nltk.sentiment import SentimentIntensityAnalyzer\n",
    "import nltk\n",
    "from nltk.corpus import stopwords\n",
    "from nltk.tokenize import word_tokenize\n",
    "from nltk.stem import WordNetLemmatizer\n",
    "import re\n",
    "\n",
    "nltk.download('punkt')\n",
    "nltk.download('stopwords')\n",
    "nltk.download('wordnet')\n",
    "nltk.download('vader_lexicon')\n",
    "\n",
    "print(\"Libraries imported successfully!\")\n"
   ]
  },
  {
   "cell_type": "markdown",
   "id": "56cb4ee2",
   "metadata": {},
   "source": [
    "## 2. Loading Data"
   ]
  },
  {
   "cell_type": "code",
   "execution_count": 9,
   "id": "03519322",
   "metadata": {},
   "outputs": [
    {
     "name": "stdout",
     "output_type": "stream",
     "text": [
      "Data loaded and combined successfully!\n",
      "['\"character\" \"dialogue\"', '\"1\" \"THREEPIO\" \"Did you hear that?  They\\'ve shut down the main reactor.  We\\'ll be destroyed for sure.  This is madness!\"', '\"2\" \"THREEPIO\" \"We\\'re doomed!\"', '\"3\" \"THREEPIO\" \"There\\'ll be no escape for the Princess this time.\"', '\"4\" \"THREEPIO\" \"What\\'s that?\"', '\"5\" \"THREEPIO\" \"I should have known better than to trust the logic of a half-sized thermocapsulary dehousing assister...\"', '\"6\" \"LUKE\" \"Hurry up!  Come with me!  What are you waiting for?!  Get in gear!\"', '\"7\" \"THREEPIO\" \"Artoo! Artoo-Detoo, where are you?\"', '\"8\" \"THREEPIO\" \"At last!  Where have you been?\"', '\"9\" \"THREEPIO\" \"They\\'re heading in this direction. What are we going to do?  We\\'ll be sent to the spice mines of Kessel or smashed into who knows what!\"']\n"
     ]
    }
   ],
   "source": [
    "# Load the scripts\n",
    "file_paths = [\n",
    "    r'C:\\\\Users\\\\kushi\\\\OneDrive\\\\Documents\\\\DU_Files\\\\Business Inteligence\\\\Lab4\\\\Lab4_dataset\\\\star_wars_movies_scripts\\\\SW_EpisodeIV.txt',\n",
    "    r'C:\\\\Users\\\\kushi\\\\OneDrive\\\\Documents\\\\DU_Files\\\\Business Inteligence\\\\Lab4\\\\Lab4_dataset\\\\star_wars_movies_scripts\\\\SW_EpisodeV.txt',\n",
    "    r'C:\\\\Users\\\\kushi\\\\OneDrive\\\\Documents\\\\DU_Files\\\\Business Inteligence\\\\Lab4\\\\Lab4_dataset\\\\star_wars_movies_scripts\\\\SW_EpisodeVI.txt'\n",
    "]\n",
    "\n",
    "# Combine scripts into a single dataframe\n",
    "data = []\n",
    "for file_path in file_paths:\n",
    "    with open(file_path, 'r', encoding='utf-8') as file:\n",
    "        lines = file.readlines()\n",
    "        for line in lines:\n",
    "            if line.strip():  # Skip empty lines\n",
    "                data.append(line.strip())\n",
    "\n",
    "print(\"Data loaded and combined successfully!\")\n",
    "print(data[:10])  # Print first 10 lines to check\n"
   ]
  },
  {
   "cell_type": "markdown",
   "id": "e6419aba",
   "metadata": {},
   "source": [
    "## 3. Creating DataFrame"
   ]
  },
  {
   "cell_type": "code",
   "execution_count": 10,
   "id": "3dfe8654",
   "metadata": {},
   "outputs": [
    {
     "name": "stdout",
     "output_type": "stream",
     "text": [
      "DataFrame created successfully!\n",
      "                                                text\n",
      "0                             \"character\" \"dialogue\"\n",
      "1  \"1\" \"THREEPIO\" \"Did you hear that?  They've sh...\n",
      "2                     \"2\" \"THREEPIO\" \"We're doomed!\"\n",
      "3  \"3\" \"THREEPIO\" \"There'll be no escape for the ...\n",
      "4                      \"4\" \"THREEPIO\" \"What's that?\"\n"
     ]
    }
   ],
   "source": [
    "# Create DataFrame from the loaded data\n",
    "scripts_df = pd.DataFrame(data, columns=['text'])\n",
    "print(\"DataFrame created successfully!\")\n",
    "print(scripts_df.head())\n"
   ]
  },
  {
   "cell_type": "markdown",
   "id": "fcb48f6c",
   "metadata": {},
   "source": [
    "## 4. Parsing Character and Dialogue"
   ]
  },
  {
   "cell_type": "code",
   "execution_count": 11,
   "id": "35c763dd",
   "metadata": {},
   "outputs": [
    {
     "name": "stdout",
     "output_type": "stream",
     "text": [
      "Character and dialogue parsed successfully!\n",
      "  line_number character                                           dialogue\n",
      "0        None      None                             \"character\" \"dialogue\"\n",
      "1        None      None  \"1\" \"THREEPIO\" \"Did you hear that?  They've sh...\n",
      "2        None      None                     \"2\" \"THREEPIO\" \"We're doomed!\"\n",
      "3        None      None  \"3\" \"THREEPIO\" \"There'll be no escape for the ...\n",
      "4        None      None                      \"4\" \"THREEPIO\" \"What's that?\"\n"
     ]
    }
   ],
   "source": [
    "# Define a function to parse the character and dialogue using regex\n",
    "def parse_character_dialogue(row):\n",
    "    match = re.match(r'^(\\d+)\\s+\"([^\"]+)\"\\s+\"([^\"]+)\"$', row)\n",
    "    if match:\n",
    "        return match.groups()\n",
    "    return None, None, row\n",
    "\n",
    "# Apply the function to each row in the dataframe\n",
    "parsed = scripts_df['text'].apply(parse_character_dialogue)\n",
    "parsed_df = pd.DataFrame(parsed.tolist(), columns=['line_number', 'character', 'dialogue'])\n",
    "\n",
    "print(\"Character and dialogue parsed successfully!\")\n",
    "print(parsed_df.head())\n"
   ]
  },
  {
   "cell_type": "markdown",
   "id": "87ae6a61",
   "metadata": {},
   "source": [
    "## 5. Frequency Distribution of Words"
   ]
  },
  {
   "cell_type": "code",
   "execution_count": 12,
   "id": "1f5e8b35",
   "metadata": {},
   "outputs": [
    {
     "data": {
      "image/png": "[encoded data removed]",
      "text/plain": [
       "<Figure size 1000x600 with 1 Axes>"
      ]
     },
     "metadata": {},
     "output_type": "display_data"
    }
   ],
   "source": [
    "# Combine all dialogues into one large text\n",
    "all_scripts = ' '.join(parsed_df['dialogue'].dropna().astype(str))\n",
    "\n",
    "# Tokenize the text using regular expressions\n",
    "tokens = re.findall(r'\\b\\w+\\b', all_scripts.lower())\n",
    "\n",
    "# Calculate frequency distribution\n",
    "from collections import Counter\n",
    "fdist = Counter(tokens)\n",
    "\n",
    "# Plot the most common words\n",
    "most_common_words = fdist.most_common(30)\n",
    "words, counts = zip(*most_common_words)\n",
    "\n",
    "plt.figure(figsize=(10, 6))\n",
    "plt.bar(words, counts)\n",
    "plt.title(\"Frequency Distribution of the Most Common Words\")\n",
    "plt.xticks(rotation=90)\n",
    "plt.show()\n"
   ]
  },
  {
   "cell_type": "markdown",
   "id": "659d7b2e",
   "metadata": {},
   "source": [
    "## 6. Remove Stop Words and Recalculate Frequency Distribution"
   ]
  },
  {
   "cell_type": "code",
   "execution_count": 13,
   "id": "0f1495e4",
   "metadata": {},
   "outputs": [
    {
     "data": {
      "image/png": "[encoded data removed]",
      "text/plain": [
       "<Figure size 1000x600 with 1 Axes>"
      ]
     },
     "metadata": {},
     "output_type": "display_data"
    }
   ],
   "source": [
    "# Define stop words\n",
    "stop_words = set(stopwords.words('english'))\n",
    "\n",
    "# Remove stop words from the list of words\n",
    "filtered_words = [word for word in tokens if word not in stop_words]\n",
    "\n",
    "# Calculate frequency distribution for the filtered words\n",
    "fdist_filtered = Counter(filtered_words)\n",
    "\n",
    "# Plot the most common filtered words\n",
    "most_common_filtered_words = fdist_filtered.most_common(30)\n",
    "filtered_words, filtered_counts = zip(*most_common_filtered_words)\n",
    "\n",
    "plt.figure(figsize=(10, 6))\n",
    "plt.bar(filtered_words, filtered_counts)\n",
    "plt.title(\"Frequency Distribution of Filtered Words\")\n",
    "plt.xticks(rotation=90)\n",
    "plt.show()\n"
   ]
  },
  {
   "cell_type": "markdown",
   "id": "23860ca4",
   "metadata": {},
   "source": [
    "## 7. Generate Word Clouds"
   ]
  },
  {
   "cell_type": "code",
   "execution_count": 15,
   "id": "8b509ee8",
   "metadata": {},
   "outputs": [
    {
     "name": "stdout",
     "output_type": "stream",
     "text": [
      "Unique characters: [None]\n",
      "No dialogues found for Darth Vader\n",
      "No dialogues found for Yoda\n"
     ]
    }
   ],
   "source": [
    "from PIL import Image\n",
    "\n",
    "# Load the images\n",
    "vader_mask = np.array(Image.open(r'C:\\\\Users\\\\kushi\\\\OneDrive\\\\Documents\\\\DU_Files\\\\Business Inteligence\\\\Lab4\\\\Lab4_dataset\\\\wordcloud_masks\\\\vader.jpg'))\n",
    "yoda_mask = np.array(Image.open(r'C:\\\\Users\\\\kushi\\\\OneDrive\\\\Documents\\\\DU_Files\\\\Business Inteligence\\\\Lab4\\\\Lab4_dataset\\\\wordcloud_masks\\\\yoda.png'))\n",
    "\n",
    "# Function to generate word cloud\n",
    "def generate_word_cloud(text, title, mask=None):\n",
    "    wordcloud = WordCloud(width=800, height=400, background_color='white', stopwords=STOPWORDS, mask=mask).generate(text)\n",
    "    plt.figure(figsize=(10, 5))\n",
    "    plt.imshow(wordcloud, interpolation='bilinear')\n",
    "    plt.title(title)\n",
    "    plt.axis('off')\n",
    "    plt.show()\n",
    "\n",
    "# Check unique character names\n",
    "unique_characters = parsed_df['character'].str.upper().unique()\n",
    "print(\"Unique characters:\", unique_characters)\n",
    "\n",
    "# Generate word cloud for Darth Vader\n",
    "darth_vader_lines = parsed_df[parsed_df['character'].str.upper() == 'VADER']['dialogue'].dropna().astype(str).values\n",
    "if len(darth_vader_lines) > 0:\n",
    "    generate_word_cloud(' '.join(darth_vader_lines), \"Darth Vader Word Cloud\", mask=vader_mask)\n",
    "else:\n",
    "    print(\"No dialogues found for Darth Vader\")\n",
    "\n",
    "# Generate word cloud for Yoda\n",
    "yoda_lines = parsed_df[parsed_df['character'].str.upper() == 'YODA']['dialogue'].dropna().astype(str).values\n",
    "if len(yoda_lines) > 0:\n",
    "    generate_word_cloud(' '.join(yoda_lines), \"Yoda Word Cloud\", mask=yoda_mask)\n",
    "else:\n",
    "    print(\"No dialogues found for Yoda\")\n"
   ]
  },
  {
   "cell_type": "markdown",
   "id": "b077447f",
   "metadata": {},
   "source": [
    "## 8. TF-IDF Analysis"
   ]
  },
  {
   "cell_type": "code",
   "execution_count": 16,
   "id": "8193782d",
   "metadata": {},
   "outputs": [
    {
     "data": {
      "text/html": [
       "<div>\n",
       "<style scoped>\n",
       "    .dataframe tbody tr th:only-of-type {\n",
       "        vertical-align: middle;\n",
       "    }\n",
       "\n",
       "    .dataframe tbody tr th {\n",
       "        vertical-align: top;\n",
       "    }\n",
       "\n",
       "    .dataframe thead th {\n",
       "        text-align: right;\n",
       "    }\n",
       "</style>\n",
       "<table border=\"1\" class=\"dataframe\">\n",
       "  <thead>\n",
       "    <tr style=\"text-align: right;\">\n",
       "      <th></th>\n",
       "      <th>TF-IDF</th>\n",
       "    </tr>\n",
       "  </thead>\n",
       "  <tbody>\n",
       "    <tr>\n",
       "      <th>luke</th>\n",
       "      <td>119.685520</td>\n",
       "    </tr>\n",
       "    <tr>\n",
       "      <th>han</th>\n",
       "      <td>98.585715</td>\n",
       "    </tr>\n",
       "    <tr>\n",
       "      <th>leia</th>\n",
       "      <td>69.998609</td>\n",
       "    </tr>\n",
       "    <tr>\n",
       "      <th>threepio</th>\n",
       "      <td>69.503458</td>\n",
       "    </tr>\n",
       "    <tr>\n",
       "      <th>vader</th>\n",
       "      <td>46.293810</td>\n",
       "    </tr>\n",
       "    <tr>\n",
       "      <th>don</th>\n",
       "      <td>40.778939</td>\n",
       "    </tr>\n",
       "    <tr>\n",
       "      <th>ben</th>\n",
       "      <td>37.360562</td>\n",
       "    </tr>\n",
       "    <tr>\n",
       "      <th>ll</th>\n",
       "      <td>36.845355</td>\n",
       "    </tr>\n",
       "    <tr>\n",
       "      <th>lando</th>\n",
       "      <td>36.239237</td>\n",
       "    </tr>\n",
       "    <tr>\n",
       "      <th>come</th>\n",
       "      <td>32.647771</td>\n",
       "    </tr>\n",
       "  </tbody>\n",
       "</table>\n",
       "</div>"
      ],
      "text/plain": [
       "              TF-IDF\n",
       "luke      119.685520\n",
       "han        98.585715\n",
       "leia       69.998609\n",
       "threepio   69.503458\n",
       "vader      46.293810\n",
       "don        40.778939\n",
       "ben        37.360562\n",
       "ll         36.845355\n",
       "lando      36.239237\n",
       "come       32.647771"
      ]
     },
     "execution_count": 16,
     "metadata": {},
     "output_type": "execute_result"
    }
   ],
   "source": [
    "# Apply TF-IDF vectorizer\n",
    "tfidf = TfidfVectorizer(stop_words='english')\n",
    "tfidf_matrix = tfidf.fit_transform(parsed_df['dialogue'].dropna().astype(str))\n",
    "\n",
    "# Get feature names\n",
    "feature_names = tfidf.get_feature_names_out()\n",
    "\n",
    "# Summarize TF-IDF results\n",
    "tfidf_scores = np.sum(tfidf_matrix.toarray(), axis=0)\n",
    "tfidf_scores_df = pd.DataFrame(tfidf_scores, index=feature_names, columns=['TF-IDF'])\n",
    "\n",
    "# Sort by TF-IDF score\n",
    "tfidf_scores_df = tfidf_scores_df.sort_values(by='TF-IDF', ascending=False)\n",
    "\n",
    "# Display the top 10 words\n",
    "tfidf_scores_top10 = tfidf_scores_df.head(10)\n",
    "tfidf_scores_top10\n"
   ]
  },
  {
   "cell_type": "markdown",
   "id": "fc1c34f2",
   "metadata": {},
   "source": [
    "# 9. Sentiment Analysis"
   ]
  },
  {
   "cell_type": "code",
   "execution_count": 17,
   "id": "ad3ad42b",
   "metadata": {},
   "outputs": [
    {
     "data": {
      "text/html": [
       "<div>\n",
       "<style scoped>\n",
       "    .dataframe tbody tr th:only-of-type {\n",
       "        vertical-align: middle;\n",
       "    }\n",
       "\n",
       "    .dataframe tbody tr th {\n",
       "        vertical-align: top;\n",
       "    }\n",
       "\n",
       "    .dataframe thead th {\n",
       "        text-align: right;\n",
       "    }\n",
       "</style>\n",
       "<table border=\"1\" class=\"dataframe\">\n",
       "  <thead>\n",
       "    <tr style=\"text-align: right;\">\n",
       "      <th></th>\n",
       "      <th>character</th>\n",
       "      <th>dialogue</th>\n",
       "      <th>Sentiment</th>\n",
       "    </tr>\n",
       "  </thead>\n",
       "  <tbody>\n",
       "    <tr>\n",
       "      <th>0</th>\n",
       "      <td>None</td>\n",
       "      <td>\"character\" \"dialogue\"</td>\n",
       "      <td>0.0000</td>\n",
       "    </tr>\n",
       "    <tr>\n",
       "      <th>1</th>\n",
       "      <td>None</td>\n",
       "      <td>\"1\" \"THREEPIO\" \"Did you hear that?  They've sh...</td>\n",
       "      <td>-0.2942</td>\n",
       "    </tr>\n",
       "    <tr>\n",
       "      <th>2</th>\n",
       "      <td>None</td>\n",
       "      <td>\"2\" \"THREEPIO\" \"We're doomed!\"</td>\n",
       "      <td>0.0000</td>\n",
       "    </tr>\n",
       "    <tr>\n",
       "      <th>3</th>\n",
       "      <td>None</td>\n",
       "      <td>\"3\" \"THREEPIO\" \"There'll be no escape for the ...</td>\n",
       "      <td>-0.1280</td>\n",
       "    </tr>\n",
       "    <tr>\n",
       "      <th>4</th>\n",
       "      <td>None</td>\n",
       "      <td>\"4\" \"THREEPIO\" \"What's that?\"</td>\n",
       "      <td>0.0000</td>\n",
       "    </tr>\n",
       "  </tbody>\n",
       "</table>\n",
       "</div>"
      ],
      "text/plain": [
       "  character                                           dialogue  Sentiment\n",
       "0      None                             \"character\" \"dialogue\"     0.0000\n",
       "1      None  \"1\" \"THREEPIO\" \"Did you hear that?  They've sh...    -0.2942\n",
       "2      None                     \"2\" \"THREEPIO\" \"We're doomed!\"     0.0000\n",
       "3      None  \"3\" \"THREEPIO\" \"There'll be no escape for the ...    -0.1280\n",
       "4      None                      \"4\" \"THREEPIO\" \"What's that?\"     0.0000"
      ]
     },
     "execution_count": 17,
     "metadata": {},
     "output_type": "execute_result"
    }
   ],
   "source": [
    "# Initialize the sentiment analyzer\n",
    "sia = SentimentIntensityAnalyzer()\n",
    "\n",
    "# Apply sentiment analysis\n",
    "parsed_df['Sentiment'] = parsed_df['dialogue'].dropna().apply(lambda x: sia.polarity_scores(str(x))['compound'])\n",
    "\n",
    "# Display sentiment analysis results\n",
    "sentiment_analysis_results = parsed_df[['character', 'dialogue', 'Sentiment']].head()\n",
    "sentiment_analysis_results\n"
   ]
  },
  {
   "cell_type": "markdown",
   "id": "696e4644",
   "metadata": {},
   "source": [
    "# 10. Plot Sentiment Distribution"
   ]
  },
  {
   "cell_type": "code",
   "execution_count": 18,
   "id": "c6382b72",
   "metadata": {},
   "outputs": [
    {
     "data": {
      "image/png": "[encoded data removed]",
      "text/plain": [
       "<Figure size 1000x600 with 1 Axes>"
      ]
     },
     "metadata": {},
     "output_type": "display_data"
    }
   ],
   "source": [
    "# Plot sentiment distribution\n",
    "plt.figure(figsize=(10, 6))\n",
    "parsed_df['Sentiment'].hist(bins=30)\n",
    "plt.title('Sentiment Distribution')\n",
    "plt.xlabel('Sentiment Score')\n",
    "plt.ylabel('Frequency')\n",
    "plt.show()\n"
   ]
  },
  {
   "cell_type": "code",
   "execution_count": null,
   "id": "0ce8456e",
   "metadata": {},
   "outputs": [],
   "source": []
  }
 ],
 "metadata": {
  "kernelspec": {
   "display_name": "Python 3 (ipykernel)",
   "language": "python",
   "name": "python3"
  },
  "language_info": {
   "codemirror_mode": {
    "name": "ipython",
    "version": 3
   },
   "file_extension": ".py",
   "mimetype": "text/x-python",
   "name": "python",
   "nbconvert_exporter": "python",
   "pygments_lexer": "ipython3",
   "version": "3.11.5"
  },
  "varInspector": {
   "cols": {
    "lenName": 16,
    "lenType": 16,
    "lenVar": 40
   },
   "kernels_config": {
    "python": {
     "delete_cmd_postfix": "",
     "delete_cmd_prefix": "del ",
     "library": "var_list.py",
     "varRefreshCmd": "print(var_dic_list())"
    },
    "r": {
     "delete_cmd_postfix": ") ",
     "delete_cmd_prefix": "rm(",
     "library": "var_list.r",
     "varRefreshCmd": "cat(var_dic_list()) "
    }
   },
   "types_to_exclude": [
    "module",
    "function",
    "builtin_function_or_method",
    "instance",
    "_Feature"
   ],
   "window_display": false
  }
 },
 "nbformat": 4,
 "nbformat_minor": 5
}
